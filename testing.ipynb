{
 "cells": [
  {
   "cell_type": "code",
   "execution_count": 1,
   "metadata": {},
   "outputs": [
    {
     "name": "stderr",
     "output_type": "stream",
     "text": [
      "/Users/ola/miniforge3/envs/pycaret_env/lib/python3.8/site-packages/lightfm/_lightfm_fast.py:9: UserWarning: LightFM was compiled without OpenMP support. Only a single thread will be used.\n",
      "  warnings.warn(\n"
     ]
    }
   ],
   "source": [
    "from preprocessing import preprocess_all\n",
    "from lightfm_functions import get_clean_dataframes, create_lightfm_dataset, train_lightfm_model\n",
    "import pandas as pd\n",
    "import warnings\n",
    "import pickle\n",
    "\n",
    "warnings.filterwarnings('ignore')"
   ]
  },
  {
   "cell_type": "code",
   "execution_count": 2,
   "metadata": {},
   "outputs": [],
   "source": [
    "def get_dataframes(min_count_author, min_count_user_ints, path='data/', to_save=True):\n",
    "\n",
    "    interactions_df = pd.read_csv(path+'interactions.csv', \n",
    "                                  sep=';', error_bad_lines=False, encoding='latin-1')\n",
    "\n",
    "    users_df = pd.read_csv(path+'users.csv', sep=';', encoding='latin-1', error_bad_lines=False)\n",
    "    items_df = pd.read_csv(path+'items.csv', sep=';', encoding='latin-1', error_bad_lines=False)\n",
    "\n",
    "    interactions_df, items_df, users_df = preprocess_all(interactions_df, items_df, users_df, min_count_author, min_count_user_ints)\n",
    "\n",
    "    if to_save:\n",
    "        interactions_df.to_csv(path+'interactions_clean.csv', index=False)\n",
    "        items_df.to_csv(path+'items_clean.csv', index=False)\n",
    "        users_df.to_csv(path+'users_clean.csv', index=False)\n",
    "\n",
    "    return interactions_df, items_df, users_df"
   ]
  },
  {
   "cell_type": "code",
   "execution_count": 3,
   "metadata": {},
   "outputs": [],
   "source": [
    "def main(min_count_author=1, min_count_user_ints=3):\n",
    "    interactions_df, items_df, users_df = get_dataframes(min_count_author, min_count_user_ints)\n",
    "    print('Datasets are saved')\n",
    "    interactions_df, items_df, users_df = get_clean_dataframes()\n",
    "    print('Clean datasets are imported')\n",
    "    print(interactions_df.shape, users_df.shape, items_df.shape)\n",
    "    dataset, user_ids_buffered, item_ids_buffered, interactions, weights = create_lightfm_dataset(interactions_df)\n",
    "    print('LightFM dataset is created')\n",
    "    model = train_lightfm_model(weights, True)\n",
    "\n",
    "    print('Datasets are cleaned and the model is trained and saved')"
   ]
  },
  {
   "cell_type": "code",
   "execution_count": 6,
   "metadata": {},
   "outputs": [
    {
     "name": "stderr",
     "output_type": "stream",
     "text": [
      "b'Skipping line 6452: expected 8 fields, saw 9\\nSkipping line 43667: expected 8 fields, saw 10\\nSkipping line 51751: expected 8 fields, saw 9\\n'\n",
      "b'Skipping line 92038: expected 8 fields, saw 9\\nSkipping line 104319: expected 8 fields, saw 9\\nSkipping line 121768: expected 8 fields, saw 9\\n'\n",
      "b'Skipping line 144058: expected 8 fields, saw 9\\nSkipping line 150789: expected 8 fields, saw 9\\nSkipping line 157128: expected 8 fields, saw 9\\nSkipping line 180189: expected 8 fields, saw 9\\nSkipping line 185738: expected 8 fields, saw 9\\n'\n",
      "b'Skipping line 209388: expected 8 fields, saw 9\\nSkipping line 220626: expected 8 fields, saw 9\\nSkipping line 227933: expected 8 fields, saw 11\\nSkipping line 228957: expected 8 fields, saw 10\\nSkipping line 245933: expected 8 fields, saw 9\\nSkipping line 251296: expected 8 fields, saw 9\\nSkipping line 259941: expected 8 fields, saw 9\\nSkipping line 261529: expected 8 fields, saw 9\\n'\n"
     ]
    },
    {
     "name": "stdout",
     "output_type": "stream",
     "text": [
      "Datasets are saved\n",
      "Clean datasets are imported\n",
      "(192228, 3) (49437, 3) (13787, 6)\n",
      "LightFM dataset is created\n"
     ]
    },
    {
     "name": "stderr",
     "output_type": "stream",
     "text": [
      "Epoch: 100%|██████████| 15/15 [00:19<00:00,  1.28s/it]"
     ]
    },
    {
     "name": "stdout",
     "output_type": "stream",
     "text": [
      "Datasets are cleaned and the model is trained and saved\n"
     ]
    },
    {
     "name": "stderr",
     "output_type": "stream",
     "text": [
      "\n"
     ]
    }
   ],
   "source": [
    "main(5, 5)"
   ]
  },
  {
   "cell_type": "code",
   "execution_count": null,
   "metadata": {},
   "outputs": [],
   "source": []
  }
 ],
 "metadata": {
  "kernelspec": {
   "display_name": "Python 3",
   "language": "python",
   "name": "python3"
  },
  "language_info": {
   "codemirror_mode": {
    "name": "ipython",
    "version": 3
   },
   "file_extension": ".py",
   "mimetype": "text/x-python",
   "name": "python",
   "nbconvert_exporter": "python",
   "pygments_lexer": "ipython3",
   "version": "3.8.13"
  }
 },
 "nbformat": 4,
 "nbformat_minor": 2
}
